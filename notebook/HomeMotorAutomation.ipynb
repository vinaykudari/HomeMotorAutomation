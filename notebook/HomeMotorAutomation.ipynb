{
 "cells": [
  {
   "cell_type": "markdown",
   "metadata": {},
   "source": [
    "# Generate Dataset from Log File"
   ]
  },
  {
   "cell_type": "code",
   "execution_count": null,
   "metadata": {},
   "outputs": [],
   "source": [
    "import os\n",
    "import pandas as pd\n",
    "from matplotlib import pyplot as plt\n",
    "from scipy import stats\n",
    "import numpy as np"
   ]
  },
  {
   "cell_type": "code",
   "execution_count": null,
   "metadata": {},
   "outputs": [],
   "source": [
    "LOG_FILE_DIR = '/home/vinaykudari/Documents/code/HomeMotorAutomation/data/' \n",
    "FILE_NAME = 'homebridge.log'\n",
    "\n",
    "LOG_FILE_PATH = os.path.join(LOG_FILE_DIR, FILE_NAME)\n",
    "FROM_DATE = '2020-02-22'"
   ]
  },
  {
   "cell_type": "code",
   "execution_count": null,
   "metadata": {},
   "outputs": [],
   "source": [
    "def clean_log_file(log):\n",
    "    log = [line.replace('\\x1b[37m', '').\n",
    "           replace('\\x1b[39m \\x1b[36m[Motor]\\x1b[39m', ' : ').\n",
    "           replace('\\n', '').\n",
    "           replace('\\'','').\n",
    "           replace('.', '').split(\" : \")\n",
    "           for line in log if 'turned' in line]\n",
    "    \n",
    "    return log"
   ]
  },
  {
   "cell_type": "code",
   "execution_count": null,
   "metadata": {},
   "outputs": [],
   "source": [
    "def process_log(cleaned_log, from_date):\n",
    "    log_df = pd.DataFrame(log_cleaned, columns=['date', 'status'])\n",
    "    \n",
    "    log_df['datetime'] = pd.to_datetime(log_df.date, format=\"[%m/%d/%Y, %I:%M:%S %p]\")\n",
    "    log_df['date'] = log_df.datetime.apply(lambda x : x.date())\n",
    "    log_df['date'] = pd.to_datetime(log_df.date, format=\"%Y-%m-%d\") \n",
    "    processed_log = log_df[log_df['date'] > from_date]\n",
    "    \n",
    "    return processed_log"
   ]
  },
  {
   "cell_type": "code",
   "execution_count": null,
   "metadata": {},
   "outputs": [],
   "source": [
    "def transform_log(processed_log):\n",
    "    log_night = processed_log.groupby(['date', 'status']).apply(max).reset_index(drop=True)\n",
    "    log_morning = processed_log.groupby(['date', 'status']).apply(min).reset_index(drop=True)\n",
    "    \n",
    "    df_night = log_night.pivot(index='date', columns='status', values='datetime').reset_index()\n",
    "    df_morning = log_morning.pivot(index='date', columns='status', values='datetime').reset_index()\n",
    "    \n",
    "    df = pd.concat([df_night, df_morning]).sort_values(by='date').reset_index(drop=True)\n",
    "    df.columns = ['date', 'turned_off_time', 'turned_on_time']\n",
    "    \n",
    "    df['day_of_week'] = df['date'].dt.day_name()\n",
    "    df['time_taken'] = df['turned_off_time'] - df['turned_on_time']\n",
    "    \n",
    "    df['turned_off_time'] = df['turned_off_time'].dt.time\n",
    "    df['turned_on_time'] = df['turned_on_time'].dt.time\n",
    "    \n",
    "    return df[['date', 'day_of_week', 'turned_on_time', 'turned_off_time', 'time_taken']]"
   ]
  },
  {
   "cell_type": "code",
   "execution_count": null,
   "metadata": {},
   "outputs": [],
   "source": [
    "log = open(LOG_FILE_PATH).readlines()\n",
    "log_cleaned = clean_log_file(log)\n",
    "processed_log = process_log(log_cleaned, FROM_DATE)\n",
    "motor_data = transform_log(processed_log)\n",
    "motor_data = motor_data.set_index('date')"
   ]
  },
  {
   "cell_type": "code",
   "execution_count": 335,
   "metadata": {},
   "outputs": [
    {
     "data": {
      "text/html": [
       "<div>\n",
       "<style scoped>\n",
       "    .dataframe tbody tr th:only-of-type {\n",
       "        vertical-align: middle;\n",
       "    }\n",
       "\n",
       "    .dataframe tbody tr th {\n",
       "        vertical-align: top;\n",
       "    }\n",
       "\n",
       "    .dataframe thead th {\n",
       "        text-align: right;\n",
       "    }\n",
       "</style>\n",
       "<table border=\"1\" class=\"dataframe\">\n",
       "  <thead>\n",
       "    <tr style=\"text-align: right;\">\n",
       "      <th></th>\n",
       "      <th>day_of_week</th>\n",
       "      <th>turned_on_time</th>\n",
       "      <th>turned_off_time</th>\n",
       "      <th>time_taken</th>\n",
       "    </tr>\n",
       "    <tr>\n",
       "      <th>date</th>\n",
       "      <th></th>\n",
       "      <th></th>\n",
       "      <th></th>\n",
       "      <th></th>\n",
       "    </tr>\n",
       "  </thead>\n",
       "  <tbody>\n",
       "    <tr>\n",
       "      <th>2020-02-23</th>\n",
       "      <td>Sunday</td>\n",
       "      <td>19:00:20</td>\n",
       "      <td>19:07:55</td>\n",
       "      <td>00:07:35</td>\n",
       "    </tr>\n",
       "    <tr>\n",
       "      <th>2020-02-23</th>\n",
       "      <td>Sunday</td>\n",
       "      <td>00:12:47</td>\n",
       "      <td>00:25:29</td>\n",
       "      <td>00:12:42</td>\n",
       "    </tr>\n",
       "    <tr>\n",
       "      <th>2020-02-24</th>\n",
       "      <td>Monday</td>\n",
       "      <td>11:27:18</td>\n",
       "      <td>11:44:36</td>\n",
       "      <td>00:17:18</td>\n",
       "    </tr>\n",
       "    <tr>\n",
       "      <th>2020-02-24</th>\n",
       "      <td>Monday</td>\n",
       "      <td>07:05:51</td>\n",
       "      <td>07:16:31</td>\n",
       "      <td>00:10:40</td>\n",
       "    </tr>\n",
       "    <tr>\n",
       "      <th>2020-02-25</th>\n",
       "      <td>Tuesday</td>\n",
       "      <td>12:37:32</td>\n",
       "      <td>12:54:24</td>\n",
       "      <td>00:16:52</td>\n",
       "    </tr>\n",
       "  </tbody>\n",
       "</table>\n",
       "</div>"
      ],
      "text/plain": [
       "           day_of_week turned_on_time turned_off_time time_taken\n",
       "date                                                            \n",
       "2020-02-23      Sunday       19:00:20        19:07:55   00:07:35\n",
       "2020-02-23      Sunday       00:12:47        00:25:29   00:12:42\n",
       "2020-02-24      Monday       11:27:18        11:44:36   00:17:18\n",
       "2020-02-24      Monday       07:05:51        07:16:31   00:10:40\n",
       "2020-02-25     Tuesday       12:37:32        12:54:24   00:16:52"
      ]
     },
     "execution_count": 335,
     "metadata": {},
     "output_type": "execute_result"
    }
   ],
   "source": [
    "motor_data.head()"
   ]
  },
  {
   "cell_type": "markdown",
   "metadata": {},
   "source": [
    "# Average Turn on Time"
   ]
  },
  {
   "cell_type": "code",
   "execution_count": 364,
   "metadata": {},
   "outputs": [
    {
     "data": {
      "text/html": [
       "<div>\n",
       "<style scoped>\n",
       "    .dataframe tbody tr th:only-of-type {\n",
       "        vertical-align: middle;\n",
       "    }\n",
       "\n",
       "    .dataframe tbody tr th {\n",
       "        vertical-align: top;\n",
       "    }\n",
       "\n",
       "    .dataframe thead th {\n",
       "        text-align: right;\n",
       "    }\n",
       "</style>\n",
       "<table border=\"1\" class=\"dataframe\">\n",
       "  <thead>\n",
       "    <tr style=\"text-align: right;\">\n",
       "      <th></th>\n",
       "      <th>time_taken</th>\n",
       "    </tr>\n",
       "  </thead>\n",
       "  <tbody>\n",
       "    <tr>\n",
       "      <th>count</th>\n",
       "      <td>105</td>\n",
       "    </tr>\n",
       "    <tr>\n",
       "      <th>mean</th>\n",
       "      <td>0 days 00:11:25.209523</td>\n",
       "    </tr>\n",
       "    <tr>\n",
       "      <th>std</th>\n",
       "      <td>0 days 03:10:19.636151</td>\n",
       "    </tr>\n",
       "    <tr>\n",
       "      <th>min</th>\n",
       "      <td>-1 days +09:43:15</td>\n",
       "    </tr>\n",
       "    <tr>\n",
       "      <th>25%</th>\n",
       "      <td>0 days 00:21:49</td>\n",
       "    </tr>\n",
       "    <tr>\n",
       "      <th>50%</th>\n",
       "      <td>0 days 00:28:00</td>\n",
       "    </tr>\n",
       "    <tr>\n",
       "      <th>75%</th>\n",
       "      <td>0 days 00:30:54</td>\n",
       "    </tr>\n",
       "    <tr>\n",
       "      <th>max</th>\n",
       "      <td>0 days 12:02:13</td>\n",
       "    </tr>\n",
       "  </tbody>\n",
       "</table>\n",
       "</div>"
      ],
      "text/plain": [
       "                   time_taken\n",
       "count                     105\n",
       "mean   0 days 00:11:25.209523\n",
       "std    0 days 03:10:19.636151\n",
       "min         -1 days +09:43:15\n",
       "25%           0 days 00:21:49\n",
       "50%           0 days 00:28:00\n",
       "75%           0 days 00:30:54\n",
       "max           0 days 12:02:13"
      ]
     },
     "execution_count": 364,
     "metadata": {},
     "output_type": "execute_result"
    }
   ],
   "source": [
    "motor_data_avg = motor_data[['time_taken']]\n",
    "motor_data_avg = motor_data_avg.groupby(by='date').agg(sum)\n",
    "\n",
    "motor_data_avg.describe()"
   ]
  },
  {
   "cell_type": "code",
   "execution_count": 365,
   "metadata": {},
   "outputs": [],
   "source": [
    "# Filtering outliers\n",
    "motor_data_avg = motor_data_avg[\n",
    "    (motor_data_grouped_per_day.time_taken < '01:00:00') &\n",
    "    (motor_data_grouped_per_day.time_taken > '00:00:00')\n",
    "]\n",
    "motor_data_avg.loc[:, 'time_taken'] = motor_data_avg.time_taken.dt.seconds//60"
   ]
  },
  {
   "cell_type": "code",
   "execution_count": 366,
   "metadata": {},
   "outputs": [
    {
     "data": {
      "text/html": [
       "<div>\n",
       "<style scoped>\n",
       "    .dataframe tbody tr th:only-of-type {\n",
       "        vertical-align: middle;\n",
       "    }\n",
       "\n",
       "    .dataframe tbody tr th {\n",
       "        vertical-align: top;\n",
       "    }\n",
       "\n",
       "    .dataframe thead th {\n",
       "        text-align: right;\n",
       "    }\n",
       "</style>\n",
       "<table border=\"1\" class=\"dataframe\">\n",
       "  <thead>\n",
       "    <tr style=\"text-align: right;\">\n",
       "      <th></th>\n",
       "      <th>time_taken</th>\n",
       "    </tr>\n",
       "  </thead>\n",
       "  <tbody>\n",
       "    <tr>\n",
       "      <th>count</th>\n",
       "      <td>94.000000</td>\n",
       "    </tr>\n",
       "    <tr>\n",
       "      <th>mean</th>\n",
       "      <td>25.925532</td>\n",
       "    </tr>\n",
       "    <tr>\n",
       "      <th>std</th>\n",
       "      <td>8.361766</td>\n",
       "    </tr>\n",
       "    <tr>\n",
       "      <th>min</th>\n",
       "      <td>0.000000</td>\n",
       "    </tr>\n",
       "    <tr>\n",
       "      <th>25%</th>\n",
       "      <td>23.000000</td>\n",
       "    </tr>\n",
       "    <tr>\n",
       "      <th>50%</th>\n",
       "      <td>28.000000</td>\n",
       "    </tr>\n",
       "    <tr>\n",
       "      <th>75%</th>\n",
       "      <td>30.000000</td>\n",
       "    </tr>\n",
       "    <tr>\n",
       "      <th>max</th>\n",
       "      <td>58.000000</td>\n",
       "    </tr>\n",
       "  </tbody>\n",
       "</table>\n",
       "</div>"
      ],
      "text/plain": [
       "       time_taken\n",
       "count   94.000000\n",
       "mean    25.925532\n",
       "std      8.361766\n",
       "min      0.000000\n",
       "25%     23.000000\n",
       "50%     28.000000\n",
       "75%     30.000000\n",
       "max     58.000000"
      ]
     },
     "execution_count": 366,
     "metadata": {},
     "output_type": "execute_result"
    }
   ],
   "source": [
    "motor_data_avg.describe()"
   ]
  },
  {
   "cell_type": "code",
   "execution_count": 367,
   "metadata": {},
   "outputs": [
    {
     "data": {
      "image/png": "[encoded data removed]",
      "text/plain": [
       "<Figure size 1296x360 with 1 Axes>"
      ]
     },
     "metadata": {
      "needs_background": "light"
     },
     "output_type": "display_data"
    }
   ],
   "source": [
    "plt.figure(figsize=(18,5))\n",
    "plt.plot(\n",
    "    motor_data_avg.index,\n",
    "    motor_data_avg.time_taken\n",
    ")\n",
    "plt.xticks(motor_data_avg.index, rotation=90)\n",
    "\n",
    "plt.show()"
   ]
  },
  {
   "cell_type": "code",
   "execution_count": null,
   "metadata": {},
   "outputs": [],
   "source": [
    "motor_data_avg['moving_average'] = motor_data_avg.rolling(window=10).mean()"
   ]
  },
  {
   "cell_type": "code",
   "execution_count": null,
   "metadata": {},
   "outputs": [],
   "source": [
    "motor_data_avg['2020-02-23': '2020-03-23'].describe()"
   ]
  },
  {
   "cell_type": "code",
   "execution_count": null,
   "metadata": {},
   "outputs": [],
   "source": [
    "motor_data_avg['2020-03-23': '2020-04-23'].describe()"
   ]
  },
  {
   "cell_type": "code",
   "execution_count": null,
   "metadata": {},
   "outputs": [],
   "source": [
    "motor_data_avg['2020-04-23': '2020-05-23'].describe()"
   ]
  },
  {
   "cell_type": "code",
   "execution_count": null,
   "metadata": {},
   "outputs": [],
   "source": [
    "# My Observations\n",
    "\n",
    "# 2020-06-07\n",
    "\n",
    "#1 Average time the motor is turned on is increasing \n",
    "#2 Whenever the motor running time is higher then the next day its running time is lower and viceversa"
   ]
  },
  {
   "cell_type": "code",
   "execution_count": 342,
   "metadata": {},
   "outputs": [],
   "source": [
    "# Average by weekday"
   ]
  },
  {
   "cell_type": "code",
   "execution_count": 397,
   "metadata": {},
   "outputs": [
    {
     "name": "stderr",
     "output_type": "stream",
     "text": [
      "/home/vinaykudari/anaconda3/envs/ml/lib/python3.8/site-packages/pandas/core/indexing.py:966: SettingWithCopyWarning: \n",
      "A value is trying to be set on a copy of a slice from a DataFrame.\n",
      "Try using .loc[row_indexer,col_indexer] = value instead\n",
      "\n",
      "See the caveats in the documentation: https://pandas.pydata.org/pandas-docs/stable/user_guide/indexing.html#returning-a-view-versus-a-copy\n",
      "  self.obj[item] = s\n"
     ]
    }
   ],
   "source": [
    "motor_data_avg_weekday = motor_data[['day_of_week', 'time_taken']]\n",
    "motor_data_avg_weekday.loc[:, 'time_taken'] = motor_data_avg_weekday.time_taken.dt.seconds//60\n",
    "motor_data_avg_weekday = motor_data_avg_weekday.groupby(by=['day_of_week']).mean()"
   ]
  },
  {
   "cell_type": "code",
   "execution_count": 409,
   "metadata": {},
   "outputs": [],
   "source": [
    "cats = ['Tuesday', 'Wednesday', 'Thursday', 'Friday', 'Saturday', 'Sunday', 'Monday']\n",
    "motor_data_avg_weekday = motor_data_avg_weekday.groupby(['day_of_week']).sum().reindex(cats) "
   ]
  },
  {
   "cell_type": "code",
   "execution_count": 412,
   "metadata": {},
   "outputs": [
    {
     "data": {
      "image/png": "[encoded data removed]",
      "text/plain": [
       "<Figure size 360x216 with 1 Axes>"
      ]
     },
     "metadata": {
      "needs_background": "light"
     },
     "output_type": "display_data"
    }
   ],
   "source": [
    "plt.figure(figsize=(5,3))\n",
    "plt.plot(\n",
    "    motor_data_avg_weekday.index,\n",
    "    motor_data_avg_weekday.time_taken\n",
    ")\n",
    "plt.xticks(motor_data_avg_weekday.index, rotation=90)\n",
    "\n",
    "plt.show()"
   ]
  },
  {
   "cell_type": "code",
   "execution_count": 413,
   "metadata": {},
   "outputs": [],
   "source": [
    "# My Observations\n",
    "\n",
    "# 2020-06-07\n",
    "\n",
    "#1 Similar trend observed with respect to steep low and highs\n",
    "\n",
    "# Questions\n",
    "\n",
    "#1 Do we have any specific water related activities with respect to weekday? \n",
    "#A "
   ]
  }
 ],
 "metadata": {
  "kernelspec": {
   "display_name": "Python 3",
   "language": "python",
   "name": "python3"
  },
  "language_info": {
   "codemirror_mode": {
    "name": "ipython",
    "version": 3
   },
   "file_extension": ".py",
   "mimetype": "text/x-python",
   "name": "python",
   "nbconvert_exporter": "python",
   "pygments_lexer": "ipython3",
   "version": "3.8.1"
  }
 },
 "nbformat": 4,
 "nbformat_minor": 2
}
